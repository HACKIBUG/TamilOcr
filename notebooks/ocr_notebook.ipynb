{
 "cells": [
  {
   "cell_type": "code",
   "execution_count": null,
   "metadata": {},
   "source": [
    "# This is where IMAGE_PATH will be set by the executor\n",
    "# IMAGE_PATH = 'path/to/image.jpg'"
   ]
  },
  {
   "cell_type": "code",
   "execution_count": null,
   "metadata": {},
   "source": [
    "# Import necessary libraries\n",
    "import pytesseract\n",
    "import cv2\n",
    "import numpy as np\n",
    "from PIL import Image\n",
    "import json\n",
    "import os"
   ]
  },
  {
   "cell_type": "code",
   "execution_count": null,
   "metadata": {},
   "source": [
    "# Simple preprocessing for image enhancement\n",
    "def preprocess_image(image_path):\n",
    "    # Read the image\n",
    "    img = cv2.imread(image_path)\n",
    "    \n",
    "    # Check if image was loaded correctly\n",
    "    if img is None:\n",
    "        # Fallback to PIL if OpenCV fails\n",
    "        try:\n",
    "            pil_img = Image.open(image_path)\n",
    "            img = np.array(pil_img)\n",
    "            # Convert RGB to BGR (OpenCV format)\n",
    "            if len(img.shape) == 3 and img.shape[2] == 3:\n",
    "                img = img[:, :, ::-1].copy()\n",
    "        except Exception as e:\n",
    "            return None, str(e)\n",
    "            \n",
    "    # Convert to grayscale\n",
    "    gray = cv2.cvtColor(img, cv2.COLOR_BGR2GRAY)\n",
    "    \n",
    "    # Apply thresholding to handle shadows and variations in lighting\n",
    "    thresh = cv2.threshold(gray, 0, 255, cv2.THRESH_BINARY_INV + cv2.THRESH_OTSU)[1]\n",
    "    \n",
    "    # Perform morphological operations to remove noise\n",
    "    kernel = np.ones((1, 1), np.uint8)\n",
    "    opening = cv2.morphologyEx(thresh, cv2.MORPH_OPEN, kernel, iterations=1)\n",
    "    \n",
    "    # Invert back\n",
    "    result = cv2.bitwise_not(opening)\n",
    "    \n",
    "    return result, None"
   ]
  },
  {
   "cell_type": "code",
   "execution_count": null,
   "metadata": {},
   "source": [
    "# OCR function to extract text\n",
    "def perform_ocr(image, lang='tam'):\n",
    "    try:\n",
    "        # Use Tamil language model\n",
    "        text = pytesseract.image_to_string(image, lang=lang)\n",
    "        return text, None\n",
    "    except Exception as e:\n",
    "        # Fall back to English if Tamil isn't available\n",
    "        try:\n",
    "            text = pytesseract.image_to_string(image)\n",
    "            return text + \"\\n(Note: Processed using English OCR due to missing Tamil language pack)\", str(e)\n",
    "        except Exception as e2:\n",
    "            return \"\", f\"OCR Error: {str(e2)}\""
   ]
  },
  {
   "cell_type": "code",
   "execution_count": null,
   "metadata": {},
   "source": [
    "# Check if the image exists\n",
    "if 'IMAGE_PATH' in globals() and os.path.exists(IMAGE_PATH):\n",
    "    # Preprocess the image\n",
    "    processed_img, preprocess_error = preprocess_image(IMAGE_PATH)\n",
    "    \n",
    "    if preprocess_error:\n",
    "        ocr_results = {\n",
    "            \"error\": f\"Preprocessing error: {preprocess_error}\",\n",
    "            \"extracted_text\": \"\",\n",
    "            \"confidence\": 0\n",
    "        }\n",
    "    else:\n",
    "        # Perform OCR\n",
    "        extracted_text, ocr_error = perform_ocr(processed_img)\n",
    "        \n",
    "        # If Tamil OCR is not available, use the warning text from the OCR function\n",
    "        ocr_results = {\n",
    "            \"extracted_text\": extracted_text,\n",
    "            \"confidence\": 85 if not ocr_error else 60,\n",
    "            \"warning\": ocr_error if ocr_error else None\n",
    "        }\n",
    "else:\n",
    "    ocr_results = {\n",
    "        \"error\": f\"Image not found: {'IMAGE_PATH' if 'IMAGE_PATH' in globals() else 'No image path specified'}\",\n",
    "        \"extracted_text\": \"\",\n",
    "        \"confidence\": 0\n",
    "    }\n",
    "\n",
    "# Output the results as JSON\n",
    "print(json.dumps(ocr_results, ensure_ascii=False))"
   ]
  }
 ],
 "metadata": {
  "kernelspec": {
   "display_name": "Python 3",
   "language": "python",
   "name": "python3"
  },
  "language_info": {
   "codemirror_mode": {
    "name": "ipython",
    "version": 3
   },
   "file_extension": ".py",
   "mimetype": "text/x-python",
   "name": "python",
   "nbconvert_exporter": "python",
   "pygments_lexer": "ipython3",
   "version": "3.11.5"
  }
 },
 "nbformat": 4,
 "nbformat_minor": 4
}
